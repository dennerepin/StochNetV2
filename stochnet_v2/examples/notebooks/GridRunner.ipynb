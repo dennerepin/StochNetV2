{
 "cells": [
  {
   "cell_type": "code",
   "execution_count": null,
   "metadata": {},
   "outputs": [],
   "source": [
    "import os\n",
    "import sys\n",
    "import matplotlib.pyplot as plt\n",
    "import numpy as np\n",
    "import scipy\n",
    "import tensorflow as tf\n",
    "from copy import deepcopy\n",
    "from mpl_toolkits.mplot3d import Axes3D\n",
    "from matplotlib import cm, animation, colors\n",
    "from importlib import import_module\n",
    "from time import time\n",
    "\n",
    "from stochnet_v2.dataset.dataset import HDF5Dataset\n",
    "from stochnet_v2.static_classes.model import StochNet\n",
    "from stochnet_v2.dynamic_classes.model import NASStochNet\n",
    "from stochnet_v2.utils.file_organisation import ProjectFileExplorer\n",
    "from stochnet_v2.utils.util import generate_gillespy_traces, plot_random_traces, maybe_create_dir\n",
    "from stochnet_v2.utils.util import merge_species_and_param_settings\n",
    "from stochnet_v2.static_classes.grid_runner import *\n",
    "\n",
    "%load_ext autoreload\n",
    "%autoreload 2\n",
    "\n",
    "os.environ[\"CUDA_VISIBLE_DEVICES\"] = \"-1\"\n",
    "np.set_printoptions(suppress=True, precision=2, linewidth=120)\n",
    "\n",
    "tf.test.is_gpu_available()"
   ]
  },
  {
   "cell_type": "raw",
   "metadata": {},
   "source": [
    "model_name = 'SIR'\n",
    "timestep = 0.5\n",
    "endtime = 50\n",
    "dataset_id = 2\n",
    "model_id = 2001\n",
    "nb_features = 3\n",
    "params_to_randomize = ['beta', 'gamma']"
   ]
  },
  {
   "cell_type": "raw",
   "metadata": {},
   "source": [
    "model_name = 'EGFR'\n",
    "timestep = 0.5\n",
    "endtime = 25.0\n",
    "dataset_id = 3\n",
    "model_id = 3017\n",
    "nb_features = 23\n",
    "nb_past_timesteps = 1\n",
    "params_to_randomize = []"
   ]
  },
  {
   "cell_type": "code",
   "execution_count": null,
   "metadata": {},
   "outputs": [],
   "source": [
    "model_name = 'Bees'\n",
    "timestep = 0.5\n",
    "endtime = 100.0\n",
    "dataset_id = 1\n",
    "model_id = 1001\n",
    "nb_features = 4\n",
    "nb_past_timesteps = 1\n",
    "params_to_randomize = []"
   ]
  },
  {
   "cell_type": "code",
   "execution_count": null,
   "metadata": {},
   "outputs": [],
   "source": [
    "project_folder = '/home/dn/DATA/PARAMETERIZED/' + model_name\n",
    "\n",
    "# project_folder = '/home/dn/DATA/' + model_name\n",
    "# project_explorer = ProjectFileExplorer(project_folder)\n",
    "# dataset_explorer = project_explorer.get_dataset_file_explorer(timestep, dataset_id)\n",
    "# model_explorer = project_explorer.get_model_file_explorer(timestep, model_id)"
   ]
  },
  {
   "cell_type": "code",
   "execution_count": null,
   "metadata": {},
   "outputs": [],
   "source": [
    "CRN_module = import_module(\"stochnet_v2.CRN_models.\" + model_name)\n",
    "CRN_class = getattr(CRN_module, model_name)\n",
    "m = CRN_class(endtime, timestep)"
   ]
  },
  {
   "cell_type": "raw",
   "metadata": {},
   "source": [
    "nn = StochNet(\n",
    "    nb_past_timesteps=1,\n",
    "    nb_features=nb_features,\n",
    "    project_folder=project_folder,\n",
    "    timestep=timestep,\n",
    "    dataset_id=dataset_id,\n",
    "    model_id=model_id,\n",
    "    nb_randomized_params=len(params_to_randomize),\n",
    "    mode='inference'\n",
    ")"
   ]
  },
  {
   "cell_type": "markdown",
   "metadata": {},
   "source": [
    "### Choose model"
   ]
  },
  {
   "cell_type": "code",
   "execution_count": null,
   "metadata": {},
   "outputs": [],
   "source": [
    "# model = nn\n",
    "model = Model(m, params_to_randomize)"
   ]
  },
  {
   "cell_type": "markdown",
   "metadata": {},
   "source": [
    "## Initialize GridRunner"
   ]
  },
  {
   "cell_type": "code",
   "execution_count": null,
   "metadata": {},
   "outputs": [],
   "source": [
    "w_dir = '/home/dn/DATA/GRID_RUNNER/' + model_name\n",
    "maybe_create_dir(w_dir)\n",
    "\n",
    "grid_spec = GridSpec(\n",
    "    boundaries=[[0.0, 1.0], [0.0, 1.0]],\n",
    "    grid_size=[10, 10]\n",
    ")\n",
    "\n",
    "gr = GridRunner(\n",
    "    model,\n",
    "    grid_spec,\n",
    "    w_dir,\n",
    "    diffusion_kernel_size=3,\n",
    "    diffusion_sigma=0.7\n",
    ")\n",
    "\n",
    "gr.grid.shape"
   ]
  },
  {
   "cell_type": "markdown",
   "metadata": {},
   "source": [
    "### Set custom diffusion kernel"
   ]
  },
  {
   "cell_type": "code",
   "execution_count": null,
   "metadata": {},
   "outputs": [],
   "source": [
    "kernel = np.array(\n",
    "    [[0.8, 0.8, 0.8],\n",
    "     [0.8, 1.0, 0.8],\n",
    "     [0.8, 0.8, 0.8]])\n",
    "kernel = np.expand_dims(kernel, -1)\n",
    "gr.diffusion_kernel = kernel"
   ]
  },
  {
   "cell_type": "markdown",
   "metadata": {},
   "source": [
    "### Set initial state"
   ]
  },
  {
   "cell_type": "code",
   "execution_count": null,
   "metadata": {},
   "outputs": [],
   "source": [
    "n_settings = 10\n",
    "\n",
    "initial_settings = m.get_initial_settings(n_settings)\n",
    "randomized_params = m.get_randomized_parameters(params_to_randomize, n_settings)\n",
    "\n",
    "settings = merge_species_and_param_settings(initial_settings, randomized_params)\n",
    "settings"
   ]
  },
  {
   "cell_type": "raw",
   "metadata": {},
   "source": [
    "settings_idx = 0\n",
    "position = (5, 5)\n",
    "gr.clear_state(mode='all')\n",
    "gr.set_state(settings[...,model.nb_features:][settings_idx], mode='params')\n",
    "gr.set_state(settings[...,:model.nb_features][settings_idx] * 100, position, mode='species')"
   ]
  },
  {
   "cell_type": "markdown",
   "metadata": {},
   "source": [
    "#### or"
   ]
  },
  {
   "cell_type": "raw",
   "metadata": {},
   "source": [
    "gr.clear_state(mode='all')\n",
    "gr.set_state(settings[...,model.nb_features:][0], mode='params')\n",
    "gr.set_state([100, 10, 0, 0], (5, 5), mode='species')\n",
    "gr.set_state([100, 10, 0, 1], (0, 0), mode='species')"
   ]
  },
  {
   "cell_type": "markdown",
   "metadata": {},
   "source": [
    "#### or"
   ]
  },
  {
   "cell_type": "code",
   "execution_count": null,
   "metadata": {},
   "outputs": [],
   "source": [
    "gr.clear_state(mode='all')\n",
    "gr.set_state(settings[..., model.nb_features:][0], mode='params')\n",
    "gr.set_state([10, 0, 0, 0], None, mode='species')\n",
    "gr.set_state([10, 0, 0, 1], (8, 9), mode='species')\n",
    "gr.set_state([10, 0, 0, 5], (9, 9), mode='species')\n",
    "gr.set_state([10, 0, 0, 1], (9, 8), mode='species')"
   ]
  },
  {
   "cell_type": "code",
   "execution_count": null,
   "metadata": {},
   "outputs": [],
   "source": [
    "[gr.state[..., i] for i in range(gr.state.shape[-1])]"
   ]
  },
  {
   "cell_type": "code",
   "execution_count": null,
   "metadata": {},
   "outputs": [],
   "source": []
  },
  {
   "cell_type": "markdown",
   "metadata": {},
   "source": [
    "### Single diffusion step"
   ]
  },
  {
   "cell_type": "code",
   "execution_count": null,
   "metadata": {},
   "outputs": [],
   "source": [
    "for _ in range(1):\n",
    "    gr.diffusion_step(\n",
    "        species_idx=3,\n",
    "        conservation=False,\n",
    "    )"
   ]
  },
  {
   "cell_type": "markdown",
   "metadata": {},
   "source": [
    "### Single max_propagation step"
   ]
  },
  {
   "cell_type": "code",
   "execution_count": null,
   "metadata": {},
   "outputs": [],
   "source": [
    "for _ in range(1):\n",
    "    gr.max_propagation_step(\n",
    "        species_idx=3,\n",
    "        alpha=0.5,\n",
    "    )"
   ]
  },
  {
   "cell_type": "markdown",
   "metadata": {},
   "source": [
    "### Model steps"
   ]
  },
  {
   "cell_type": "code",
   "execution_count": null,
   "metadata": {
    "scrolled": true
   },
   "outputs": [],
   "source": [
    "for _ in range(3):\n",
    "    start = time()\n",
    "    gr.model_step()\n",
    "    elapsed = time() - start\n",
    "    print(f'.. elapsed {elapsed:.2f}')"
   ]
  },
  {
   "cell_type": "code",
   "execution_count": null,
   "metadata": {},
   "outputs": [],
   "source": []
  },
  {
   "cell_type": "markdown",
   "metadata": {},
   "source": [
    "### Dsplay state"
   ]
  },
  {
   "cell_type": "code",
   "execution_count": null,
   "metadata": {},
   "outputs": [],
   "source": [
    "n = gr.model.nb_features\n",
    "\n",
    "fig, axes = plt.subplots(1, n, figsize=(n * 4, 4))\n",
    "for i in range(n):\n",
    "    ax = axes[i]\n",
    "    ax.imshow(gr.state[..., i])\n",
    "    ax.set_xlim([0, 10])\n",
    "    ax.set_ylim([10, 0])\n",
    "    pcm = ax.pcolormesh(gr.state[..., i], cmap=None)\n",
    "    fig.colorbar(pcm, ax=ax, shrink=0.7)\n",
    "plt.tight_layout()"
   ]
  },
  {
   "cell_type": "code",
   "execution_count": null,
   "metadata": {},
   "outputs": [],
   "source": [
    "gr.state[..., 3]"
   ]
  },
  {
   "cell_type": "code",
   "execution_count": null,
   "metadata": {},
   "outputs": [],
   "source": []
  },
  {
   "cell_type": "code",
   "execution_count": null,
   "metadata": {
    "scrolled": true
   },
   "outputs": [],
   "source": [
    "states = gr.run_model(100, 1, 5, propagation_mode='mp', species_idx=3, alpha=0.33)"
   ]
  },
  {
   "cell_type": "code",
   "execution_count": null,
   "metadata": {},
   "outputs": [],
   "source": [
    "np.save(os.path.join(gr.save_dir, 'states'), states)"
   ]
  },
  {
   "cell_type": "code",
   "execution_count": null,
   "metadata": {},
   "outputs": [],
   "source": []
  },
  {
   "cell_type": "markdown",
   "metadata": {},
   "source": [
    "## Animated figure"
   ]
  },
  {
   "cell_type": "raw",
   "metadata": {},
   "source": [
    "n = gr.model.nb_features\n",
    "names = gr.model.model.get_species_names()\n",
    "cmap = 'viridis'\n",
    "\n",
    "fig, axes = plt.subplots(1, n, figsize=(n * 4, 4))\n",
    "\n",
    "all_images = []\n",
    "for species_idx in range(n):\n",
    "    \n",
    "    ax = axes[species_idx]\n",
    "    ax.set_title(names[species_idx])\n",
    "    images = []\n",
    "\n",
    "    for state in states:\n",
    "        im = ax.imshow(state[..., species_idx], animated=True)\n",
    "        images.append(im)\n",
    "\n",
    "    vmin = min(image.get_array().min() for image in images)\n",
    "    vmax = max(image.get_array().max() for image in images)\n",
    "    # vmax = 140.\n",
    "    norm = colors.Normalize(vmin=vmin, vmax=vmax)\n",
    "    for im in images:\n",
    "        im.set_norm(norm)\n",
    "\n",
    "    fig.colorbar(images[0], ax=ax, shrink=0.75)\n",
    "\n",
    "    def update(changed_image):\n",
    "        for im in images:\n",
    "            if (changed_image.get_cmap() != im.get_cmap()\n",
    "                    or changed_image.get_clim() != im.get_clim()):\n",
    "                im.set_cmap(changed_image.get_cmap())\n",
    "                im.set_clim(changed_image.get_clim())\n",
    "\n",
    "    for im in images:\n",
    "        im.callbacksSM.connect('changed', update)\n",
    "    all_images.append(images)\n",
    "\n",
    "plt.tight_layout()"
   ]
  },
  {
   "cell_type": "markdown",
   "metadata": {},
   "source": [
    "## Special animation for Bees: \n",
    "sum 0th (normal bee) and 1st (aggressive bee) species to get population of alive bees"
   ]
  },
  {
   "cell_type": "code",
   "execution_count": null,
   "metadata": {},
   "outputs": [],
   "source": [
    "n = 3\n",
    "names = gr.model.model.get_species_names()\n",
    "cmap = 'viridis'\n",
    "\n",
    "fig, axes = plt.subplots(1, n, figsize=(n * 4, 4))\n",
    "\n",
    "all_images = []\n",
    "for species_idx in range(n):\n",
    "    \n",
    "    ax = axes[species_idx]\n",
    "    ax.set_title(names[species_idx+1] if species_idx > 0 else 'Alive Bees')\n",
    "    images = []\n",
    "\n",
    "    for state in states:\n",
    "        im = ax.imshow(state[..., species_idx+1]\n",
    "                       if species_idx > 0\n",
    "                       else state[..., 0] + state[..., 1], animated=True)\n",
    "        images.append(im)\n",
    "\n",
    "    vmin = min(image.get_array().min() for image in images)\n",
    "    vmax = max(image.get_array().max() for image in images)\n",
    "    # vmax = 140.\n",
    "    norm = colors.Normalize(vmin=vmin, vmax=vmax)\n",
    "    for im in images:\n",
    "        im.set_norm(norm)\n",
    "\n",
    "    fig.colorbar(images[0], ax=ax, shrink=0.75)\n",
    "\n",
    "    def update(changed_image):\n",
    "        for im in images:\n",
    "            if (changed_image.get_cmap() != im.get_cmap()\n",
    "                    or changed_image.get_clim() != im.get_clim()):\n",
    "                im.set_cmap(changed_image.get_cmap())\n",
    "                im.set_clim(changed_image.get_clim())\n",
    "\n",
    "    for im in images:\n",
    "        im.callbacksSM.connect('changed', update)\n",
    "    all_images.append(images)\n",
    "\n",
    "plt.tight_layout()"
   ]
  },
  {
   "cell_type": "markdown",
   "metadata": {},
   "source": [
    "## Make a GIF"
   ]
  },
  {
   "cell_type": "code",
   "execution_count": null,
   "metadata": {
    "scrolled": true
   },
   "outputs": [],
   "source": [
    "a = [[images[i] for images in all_images] for i in range(len(all_images[0]))]\n",
    "ani = animation.ArtistAnimation(fig, a, interval=100, blit=True, repeat_delay=2000)\n",
    "ani.save(os.path.join(gr.save_dir, f'animated_progress.gif'))"
   ]
  },
  {
   "cell_type": "code",
   "execution_count": null,
   "metadata": {},
   "outputs": [],
   "source": []
  },
  {
   "cell_type": "code",
   "execution_count": null,
   "metadata": {},
   "outputs": [],
   "source": []
  },
  {
   "cell_type": "markdown",
   "metadata": {},
   "source": [
    "### Separate animation for every species"
   ]
  },
  {
   "cell_type": "code",
   "execution_count": null,
   "metadata": {},
   "outputs": [],
   "source": [
    "for species_idx in range(gr.model.nb_features):\n",
    "\n",
    "    fig, ax = plt.subplots(1, 1, figsize=(8, 8))\n",
    "    cmap = 'viridis'\n",
    "    images = []\n",
    "\n",
    "    for state in states:\n",
    "        im = ax.imshow(state[..., species_idx], animated=True)\n",
    "        images.append(im)\n",
    "\n",
    "    vmin = min(image.get_array().min() for image in images)\n",
    "    vmax = max(image.get_array().max() for image in images)\n",
    "    # vmax = 140.\n",
    "    norm = colors.Normalize(vmin=vmin, vmax=vmax)\n",
    "    for im in images:\n",
    "        im.set_norm(norm)\n",
    "\n",
    "    fig.colorbar(images[0], ax=ax, shrink=0.75)\n",
    "\n",
    "    def update(changed_image):\n",
    "        for im in images:\n",
    "            if (changed_image.get_cmap() != im.get_cmap()\n",
    "                    or changed_image.get_clim() != im.get_clim()):\n",
    "                im.set_cmap(changed_image.get_cmap())\n",
    "                im.set_clim(changed_image.get_clim())\n",
    "\n",
    "    for im in images:\n",
    "        im.callbacksSM.connect('changed', update)\n",
    "\n",
    "    plt.tight_layout()\n",
    "\n",
    "    ani = animation.ArtistAnimation(fig, [[im] for im in images], interval=200, blit=True, repeat_delay=2000)\n",
    "    ani.save(os.path.join(gr.save_dir, f'nn_animated_progress_{species_idx}.gif'))"
   ]
  },
  {
   "cell_type": "code",
   "execution_count": null,
   "metadata": {},
   "outputs": [],
   "source": []
  },
  {
   "cell_type": "code",
   "execution_count": null,
   "metadata": {},
   "outputs": [],
   "source": []
  },
  {
   "cell_type": "code",
   "execution_count": null,
   "metadata": {},
   "outputs": [],
   "source": []
  }
 ],
 "metadata": {
  "kernelspec": {
   "display_name": "CENV",
   "language": "python",
   "name": "cenv"
  },
  "language_info": {
   "codemirror_mode": {
    "name": "ipython",
    "version": 3
   },
   "file_extension": ".py",
   "mimetype": "text/x-python",
   "name": "python",
   "nbconvert_exporter": "python",
   "pygments_lexer": "ipython3",
   "version": "3.6.8"
  }
 },
 "nbformat": 4,
 "nbformat_minor": 2
}
